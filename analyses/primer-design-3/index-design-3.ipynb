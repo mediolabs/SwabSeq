{
 "cells": [
  {
   "cell_type": "markdown",
   "metadata": {},
   "source": [
    "# SwabSeq Primer Design\n",
    "\n",
    "Here we will design 1536 unique i5 and i7 indicies. This will enable the end user to detect any \"index hopping\" between wells. They will satify the following criteria:\n",
    "\n",
    "- Minimum Levenshtein Distance of 3 between any two indicies\n",
    "- No homopolymer repeats > 2 nt\n",
    "- Minimized homo- and hetero-dimerization potential\n",
    "\n",
    "First, let's generate the pool of all potential 10 nt indicies satisfying our Levenshtein Distance constraints. From [Ashlock et. al 2012](https://doi.org/10.1016/j.biosystems.2012.06.005), we know there are exactly 11,743 of them. This will take ~30 mins, so we've provided the pre-calculated set."
   ]
  },
  {
   "cell_type": "code",
   "execution_count": 1,
   "metadata": {},
   "outputs": [],
   "source": [
    "import random\n",
    "import itertools\n",
    "import multiprocessing\n",
    "import numpy as np\n",
    "import pandas as pd\n",
    "import seaborn as sns\n",
    "import matplotlib.pyplot as plt\n",
    "from collections import Counter\n",
    "from collections import defaultdict\n",
    "\n",
    "# external depends\n",
    "import Levenshtein\n",
    "import primer3\n",
    "\n",
    "\n",
    "def conways_lexicode(all_idx, d=3):\n",
    "    \"\"\"\n",
    "    Peforms John Conway's (RIP) Lexicode Algorithm (Ashlock 2012). Given an ordered set of\n",
    "    indicies (all_idx) and an empty set (pool), select an index from all_idx and place it\n",
    "    in pool if it is at an edit distance of d or more from every index in pool.\n",
    "    Obviously, this is an inefficient way of calculating things, but the\n",
    "    complexity of edit metric spaces means this is almost as good as it gets...\n",
    "\n",
    "    Reference:\n",
    "        https://doi.org/10.1016/j.biosystems.2012.06.005\n",
    "    Input:\n",
    "        all_idx - an iterator that contains a all indicies\n",
    "        d - the minimum distance a idx must be to be included in pool\n",
    "    Output:\n",
    "        pool - a list of all the barcodes satisfying the constraint\n",
    "    \"\"\"\n",
    "    pool = []\n",
    "    pool.append(next(all_idx))\n",
    "    for test_idx in all_idx:\n",
    "        for pool_idx in pool:\n",
    "            if Levenshtein.distance(test_idx, pool_idx) < d:\n",
    "                break\n",
    "        else:\n",
    "            pool.append(test_idx)\n",
    "    return pool\n",
    "\n",
    "# Generate the indicies\n",
    "# ten_mers = (''.join(x) for x in itertools.product('ACGT', repeat=10))\n",
    "# ten_mers_d3 = conways_lexicode(ten_mers, d=3)\n",
    "\n",
    "# Instead, load the indices\n",
    "ten_mers_d3 = []\n",
    "with open('./ten-mer_d3.txt', 'r') as f:\n",
    "    for line in f:\n",
    "        ten_mers_d3.append(line.rstrip())"
   ]
  },
  {
   "cell_type": "markdown",
   "metadata": {},
   "source": [
    "While these indices are far apart, we need to remove the repetative and highly GC rich species "
   ]
  },
  {
   "cell_type": "code",
   "execution_count": 2,
   "metadata": {},
   "outputs": [
    {
     "name": "stdout",
     "output_type": "stream",
     "text": [
      "Primers remaining after filter - 5299\n",
      "Possible unique pairs after filter - 2649\n"
     ]
    }
   ],
   "source": [
    "ten_mers_filter = []\n",
    "for idx in ten_mers_d3:\n",
    "    gc = (idx.count('G') + idx.count('C')) / len(idx)\n",
    "    if gc > 0.65 or gc < 0.35:\n",
    "        continue\n",
    "    elif any(len(list(x)) > 2 for _,x in itertools.groupby(idx)):\n",
    "        continue\n",
    "#     elif idx[:2] == 'GG':\n",
    "#         continue\n",
    "    else:\n",
    "        ten_mers_filter.append(idx)\n",
    "        \n",
    "print(f'Primers remaining after filter - {len(ten_mers_filter)}')\n",
    "print(f'Possible unique pairs after filter - {len(ten_mers_filter)//2}')"
   ]
  },
  {
   "cell_type": "markdown",
   "metadata": {},
   "source": [
    "## Primer Sets\n",
    "\n",
    "SwabSeq has 2 different primer sets - one for SARS-CoV2 (S2) and one for the housekeeping gene RPP30. It should be noted that in the genbank files, our primers are oriented as follows:\n",
    "\n",
    "```\n",
    "s2:    P5_Forward----------Reverse_P7\n",
    "rpp30: P5_Reverse----------Forward_P7\n",
    "```\n",
    "\n",
    "We will ignore the \"Forward\"/\"Reverse\" primer distinction, and instead orient our indices based on the P5/P7 sequences, as this is what the sequencer will do regardless."
   ]
  },
  {
   "cell_type": "code",
   "execution_count": 3,
   "metadata": {},
   "outputs": [],
   "source": [
    "# illumina amplicons must start and end with these sequences\n",
    "p5 = 'AATGATACGGCGACCACCGAGATCTACAC'\n",
    "p7 = 'CAAGCAGAAGACGGCATACGAGAT'\n",
    "\n",
    "s2_f = 'GCTGGTGCTGCAGCTTATTA'\n",
    "s2_r = 'AGGGTCAAGTGCACAGTCTA'\n",
    "\n",
    "rpp30_r = 'GAGCGGCTGTCTCCACAAGT'\n",
    "rpp30_f = 'AGATTTGGACCTGCGAGCG'\n",
    "\n",
    "# capture all of the primers that will be in each well\n",
    "# data structure -> {orientation:{idx:{s2:seq, rpp30:seq}, ...}}\n",
    "s2_dict = defaultdict(lambda: defaultdict(dict))\n",
    "for idx in ten_mers_filter:      \n",
    "    # note eric & aaron paired designed the amplicons as follows:\n",
    "    # s2:    P5_Forward----------Reverse_P7\n",
    "    # rpp30: P5_Reverse----------Forward_P7\n",
    "    s2_dict['F'][idx] = {'S2':f'{p5}{idx}{s2_f}', 'RPP30':f'{p5}{idx}{rpp30_r}'}\n",
    "    s2_dict['R'][idx] = {'S2':f'{p7}{idx}{s2_r}', 'RPP30':f'{p7}{idx}{rpp30_f}'}"
   ]
  },
  {
   "cell_type": "markdown",
   "metadata": {},
   "source": [
    "Since the calculations take some time, we can mash all of these primer sets together and use `multiprocessing` to parallelize the tasks. We'll also drop the data into a `Pandas` `DataFrame` to make visualization/etc easier."
   ]
  },
  {
   "cell_type": "code",
   "execution_count": 4,
   "metadata": {},
   "outputs": [],
   "source": [
    "def calc_self_props(idx_dict):\n",
    "    \"\"\"\n",
    "    Use Primer3 to calculate hairpin and self-dimer properties. Note we have to \n",
    "    trim sequences to 60 nt (removing the 5' end) to work with Primer3. While \n",
    "    not ideal, this is probably safe as primer dimers come from the 3' end and\n",
    "    this is part of the common region of the primer.\n",
    "    \n",
    "    Input:\n",
    "        idx_dict - must have primer:str key:val pair\n",
    "    Output:\n",
    "        out_dict - Adds haripin and self-dimer Tm and dG\n",
    "    Requires:\n",
    "        primer3-py - pip install primer3-py\n",
    "    \"\"\"\n",
    "    # be good - avoid side-effects\n",
    "    out_dict = {key:val for key,val in idx_dict.items()}\n",
    "    hairpin = primer3.calcHairpin(out_dict['primer'][-60:]).todict()\n",
    "    self = primer3.calcHomodimer(out_dict['primer'][-60:]).todict()\n",
    "    out_dict['hairpin_dg'] = hairpin['dg']\n",
    "    out_dict['hairpin_tm'] = hairpin['tm']\n",
    "    out_dict['self_dg'] = self['dg']\n",
    "    out_dict['self_tm'] = self['tm']\n",
    "    return(out_dict)\n",
    "\n",
    "# flatten the dict for easy proc and export to pandas\n",
    "# {orientation:{idx:{s2:seq, rpp30:seq}, ...}} -> {orientation:xx, idx:xx, s2:xx, rpp30:xx}\n",
    "flat_s2 = []\n",
    "for orientation, idx_dict in s2_dict.items():\n",
    "    for idx, well_dict in idx_dict.items():\n",
    "        for primer_set, seq in well_dict.items():\n",
    "            flat_s2.append({'orientation':orientation, 'idx':idx, 'set':primer_set, 'primer':seq})\n",
    "                \n",
    "with multiprocessing.Pool() as pool:\n",
    "    self_props = pd.DataFrame(pool.map(calc_self_props, flat_s2))"
   ]
  },
  {
   "cell_type": "markdown",
   "metadata": {},
   "source": [
    "Let's visualize the properties to get a sense for what's going on with our potential primers. First the hairpin dG's"
   ]
  },
  {
   "cell_type": "code",
   "execution_count": 5,
   "metadata": {},
   "outputs": [
    {
     "data": {
      "text/plain": [
       "<seaborn.axisgrid.FacetGrid at 0x7f46fc3334c0>"
      ]
     },
     "execution_count": 5,
     "metadata": {},
     "output_type": "execute_result"
    },
    {
     "data": {
      "image/png": "[encoded data removed]",
      "text/plain": [
       "<Figure size 432x432 with 4 Axes>"
      ]
     },
     "metadata": {
      "needs_background": "light"
     },
     "output_type": "display_data"
    }
   ],
   "source": [
    "g = sns.FacetGrid(self_props, row='orientation', col='set', margin_titles=True)\n",
    "g.map(sns.distplot, \"hairpin_dg\", kde=False)"
   ]
  },
  {
   "cell_type": "markdown",
   "metadata": {},
   "source": [
    "We can appreciate that the hairpin dG's are binned to a single value. Next, the self-dimer dG's"
   ]
  },
  {
   "cell_type": "code",
   "execution_count": 6,
   "metadata": {},
   "outputs": [
    {
     "data": {
      "text/plain": [
       "<seaborn.axisgrid.FacetGrid at 0x7f46dfcf4730>"
      ]
     },
     "execution_count": 6,
     "metadata": {},
     "output_type": "execute_result"
    },
    {
     "data": {
      "image/png": "[encoded data removed]",
      "text/plain": [
       "<Figure size 432x432 with 4 Axes>"
      ]
     },
     "metadata": {
      "needs_background": "light"
     },
     "output_type": "display_data"
    }
   ],
   "source": [
    "g = sns.FacetGrid(self_props, row='orientation', col='set', margin_titles=True)\n",
    "g.map(sns.distplot, \"self_dg\", kde=False)"
   ]
  },
  {
   "cell_type": "markdown",
   "metadata": {},
   "source": [
    "Here we have more of a spread in dG's. With the S2 primers being more likely to self-dimerize."
   ]
  },
  {
   "cell_type": "markdown",
   "metadata": {},
   "source": [
    "## Finding Optimal Pairs\n",
    "\n",
    "Let's drop the bottom 5% from all of these distributions, and take the intersection within each orientation. The goal here being to find a common set of indicies that work well for either the forward or reverse orientations. We can then compare across orientations (excluding identical indices) to find 1536 forward and 1536 reverse primers that have minimized self- and cross-reactivity."
   ]
  },
  {
   "cell_type": "code",
   "execution_count": 7,
   "metadata": {},
   "outputs": [
    {
     "data": {
      "text/html": [
       "<div>\n",
       "<style scoped>\n",
       "    .dataframe tbody tr th:only-of-type {\n",
       "        vertical-align: middle;\n",
       "    }\n",
       "\n",
       "    .dataframe tbody tr th {\n",
       "        vertical-align: top;\n",
       "    }\n",
       "\n",
       "    .dataframe thead th {\n",
       "        text-align: right;\n",
       "    }\n",
       "</style>\n",
       "<table border=\"1\" class=\"dataframe\">\n",
       "  <thead>\n",
       "    <tr style=\"text-align: right;\">\n",
       "      <th></th>\n",
       "      <th></th>\n",
       "      <th>self_dg_cutoff</th>\n",
       "      <th>hairpin_dg_cutoff</th>\n",
       "    </tr>\n",
       "    <tr>\n",
       "      <th>set</th>\n",
       "      <th>orientation</th>\n",
       "      <th></th>\n",
       "      <th></th>\n",
       "    </tr>\n",
       "  </thead>\n",
       "  <tbody>\n",
       "    <tr>\n",
       "      <th rowspan=\"2\" valign=\"top\">RPP30</th>\n",
       "      <th>F</th>\n",
       "      <td>-10112.849083</td>\n",
       "      <td>-4121.201989</td>\n",
       "    </tr>\n",
       "    <tr>\n",
       "      <th>R</th>\n",
       "      <td>-8069.037827</td>\n",
       "      <td>-2856.675085</td>\n",
       "    </tr>\n",
       "    <tr>\n",
       "      <th rowspan=\"2\" valign=\"top\">S2</th>\n",
       "      <th>F</th>\n",
       "      <td>-10779.838179</td>\n",
       "      <td>-4630.436482</td>\n",
       "    </tr>\n",
       "    <tr>\n",
       "      <th>R</th>\n",
       "      <td>-7567.754177</td>\n",
       "      <td>-2502.688987</td>\n",
       "    </tr>\n",
       "  </tbody>\n",
       "</table>\n",
       "</div>"
      ],
      "text/plain": [
       "                   self_dg_cutoff  hairpin_dg_cutoff\n",
       "set   orientation                                   \n",
       "RPP30 F             -10112.849083       -4121.201989\n",
       "      R              -8069.037827       -2856.675085\n",
       "S2    F             -10779.838179       -4630.436482\n",
       "      R              -7567.754177       -2502.688987"
      ]
     },
     "execution_count": 7,
     "metadata": {},
     "output_type": "execute_result"
    }
   ],
   "source": [
    "cutoffs = self_props.groupby(['set', 'orientation']).agg(\n",
    "    self_dg_cutoff=('self_dg', lambda x: np.quantile(x, 0.05)),\n",
    "    hairpin_dg_cutoff=('hairpin_dg', lambda x: np.quantile(x, 0.05))\n",
    ")\n",
    "cutoffs"
   ]
  },
  {
   "cell_type": "markdown",
   "metadata": {},
   "source": [
    "Let's find indices that pass our cutoffs in all our primer sets"
   ]
  },
  {
   "cell_type": "code",
   "execution_count": 8,
   "metadata": {},
   "outputs": [
    {
     "data": {
      "text/plain": [
       "orientation\n",
       "F    4544\n",
       "R    4663\n",
       "dtype: int64"
      ]
     },
     "execution_count": 8,
     "metadata": {},
     "output_type": "execute_result"
    }
   ],
   "source": [
    "good_idx = (pd.merge(self_props, cutoffs, on=['set','orientation'])\n",
    " .query('hairpin_dg > hairpin_dg_cutoff & self_dg > self_dg_cutoff')\n",
    " .groupby(['orientation', 'idx']) \n",
    " .size()\n",
    " .reset_index(name='counts')\n",
    " .query('counts == 2')\n",
    ")\n",
    "\n",
    "good_idx.groupby('orientation').size()"
   ]
  },
  {
   "cell_type": "markdown",
   "metadata": {},
   "source": [
    "Next, we'll take the intersection of these two sets of barcodes to get pairs that are good in either the forward or reverse configuration. Since the well heterodimer calculation takes a while, we'll randomly sample 500,000 pairs from all of possible combinations. Given the previous filtering steps and Levenshtein distance constraint, we are pretty confident these will be good primers. One can easily scale this up to ~1,000,000 draws, but some initial profiling suggests that the dG values all get binned on to a single point (which is reasonable given that only 10 nt of the entire ~60nt primer is changing)."
   ]
  },
  {
   "cell_type": "code",
   "execution_count": 9,
   "metadata": {},
   "outputs": [
    {
     "name": "stdout",
     "output_type": "stream",
     "text": [
      "Barcodes remaining - 4060\n",
      "Possible unique pairs remaining - 2030\n",
      "Random Test! The two lists should be the same...\n",
      "[1609253, 6865793, 4057987, 8030505]\n",
      "[1609253, 6865793, 4057987, 8030505]\n",
      "CPU times: user 11.6 s, sys: 2.7 s, total: 14.3 s\n",
      "Wall time: 14.3 s\n"
     ]
    }
   ],
   "source": [
    "%%time\n",
    "f_set = set(good_idx.query('orientation == \"F\"')['idx'])\n",
    "r_set = set(good_idx.query('orientation == \"R\"')['idx'])\n",
    "good_set = f_set.intersection(r_set)\n",
    "print(f'Barcodes remaining - {len(good_set)}')\n",
    "print(f'Possible unique pairs remaining - {len(good_set)//2}')\n",
    "\n",
    "# ensure we get the same sampling each time\n",
    "# for whatever reason random.shuffle would not obey the seed\n",
    "combos = list(itertools.combinations(good_set, 2))\n",
    "rand_idx = random.Random(42).sample(range(len(combos)), len(combos))\n",
    "combos_shuf = [combos[x] for x in rand_idx]\n",
    "\n",
    "print('Random Test! The two lists should be the same...')\n",
    "print(f'[1609253, 6865793, 4057987, 8030505]\\n{rand_idx[-4:]}')\n",
    "\n",
    "sample_depth = 500000\n",
    "pairs = combos_shuf[:sample_depth]"
   ]
  },
  {
   "cell_type": "markdown",
   "metadata": {},
   "source": [
    "Now run the well cross-hybridization calculation. Should take ~10 mins on 64 cores."
   ]
  },
  {
   "cell_type": "code",
   "execution_count": 10,
   "metadata": {},
   "outputs": [
    {
     "name": "stdout",
     "output_type": "stream",
     "text": [
      "CPU times: user 12.9 s, sys: 1.72 s, total: 14.7 s\n",
      "Wall time: 8min 20s\n"
     ]
    }
   ],
   "source": [
    "%%time\n",
    "def calc_well_heterodimers(well_combo):\n",
    "    \"\"\"\n",
    "    Generate all combinations of possible primer pairs within one well.\n",
    "    Calculate the dG and report the min value.\n",
    "    \n",
    "    Input:\n",
    "        well_combo: [(f_index, {s2:seq, rpp30:seq}), (r_index, {s2:seq, rpp30:seq})]\n",
    "    Output:\n",
    "        (f_index, r_index, dG)\n",
    "    Depends:\n",
    "        primer3 - pip install primer3-py\n",
    "    \"\"\"\n",
    "    idx, dict_store = list(zip(*well_combo))\n",
    "    primers = itertools.chain.from_iterable(x.values() for x in dict_store)\n",
    "    # pairs = itertools.permutations(primers, 2)\n",
    "    pairs = itertools.combinations(primers, 2)\n",
    "    dG = min(primer3.calcHeterodimer(x[-60:], y).dg for x,y in pairs)\n",
    "    return((*idx, dG))\n",
    "\n",
    "s2_wells = [((f, s2_dict['F'][f]), (r, s2_dict['R'][r])) for f,r in pairs]\n",
    "\n",
    "with multiprocessing.Pool() as pool:\n",
    "    s2_well_dG = pool.map(calc_well_heterodimers, s2_wells)"
   ]
  },
  {
   "cell_type": "code",
   "execution_count": 11,
   "metadata": {},
   "outputs": [
    {
     "data": {
      "text/plain": [
       "<matplotlib.axes._subplots.AxesSubplot at 0x7f46dfe71df0>"
      ]
     },
     "execution_count": 11,
     "metadata": {},
     "output_type": "execute_result"
    },
    {
     "data": {
      "image/png": "[encoded data removed]",
      "text/plain": [
       "<Figure size 432x288 with 1 Axes>"
      ]
     },
     "metadata": {
      "needs_background": "light"
     },
     "output_type": "display_data"
    }
   ],
   "source": [
    "sns.distplot([x[2] for x in s2_well_dG])"
   ]
  },
  {
   "cell_type": "markdown",
   "metadata": {},
   "source": [
    "There seems to be two different populations. Given the depth of sampling, this is not likely driven by specific indices, rather from the primers themselves. Let's sort by dG and iterate through these pairs in a greedy fashion, ensuring that the forward and reverse primers never get used twice."
   ]
  },
  {
   "cell_type": "code",
   "execution_count": 12,
   "metadata": {},
   "outputs": [
    {
     "name": "stdout",
     "output_type": "stream",
     "text": [
      "Length of input - 500000\n",
      "Total unique index pairs found - 2023\n"
     ]
    }
   ],
   "source": [
    "# since there will be a lot of ties, first sort by f index then sort by dG\n",
    "# this should ensure that we get the same set of primers everytime\n",
    "s2_well_dG.sort(key=lambda x: x[0])\n",
    "s2_well_dG.sort(key=lambda x: x[2], reverse=True)\n",
    "print(f'Length of input - {len(s2_well_dG)}')\n",
    "\n",
    "final_pairs = []\n",
    "used_idx = set()\n",
    "for f, r, dG in s2_well_dG:\n",
    "    if f in used_idx or r in used_idx:\n",
    "        continue\n",
    "    else:\n",
    "        final_pairs.append((f, r, dG))\n",
    "        used_idx.update((f,r))\n",
    "        \n",
    "print(f'Total unique index pairs found - {len(final_pairs)}')"
   ]
  },
  {
   "cell_type": "markdown",
   "metadata": {},
   "source": [
    "Let's see what our final dG distribution looks like"
   ]
  },
  {
   "cell_type": "code",
   "execution_count": 13,
   "metadata": {},
   "outputs": [
    {
     "data": {
      "text/plain": [
       "<matplotlib.axes._subplots.AxesSubplot at 0x7f46c34de5e0>"
      ]
     },
     "execution_count": 13,
     "metadata": {},
     "output_type": "execute_result"
    },
    {
     "data": {
      "image/png": "[encoded data removed]",
      "text/plain": [
       "<Figure size 432x288 with 1 Axes>"
      ]
     },
     "metadata": {
      "needs_background": "light"
     },
     "output_type": "display_data"
    }
   ],
   "source": [
    "sns.distplot([x[2] for x in final_pairs])"
   ]
  },
  {
   "cell_type": "markdown",
   "metadata": {},
   "source": [
    "Looks good! Now grab as many primer sets as you need and output to a nice tsv"
   ]
  },
  {
   "cell_type": "code",
   "execution_count": 14,
   "metadata": {},
   "outputs": [],
   "source": [
    "# write them out together for debugging\n",
    "with open('./primer-set.tsv', 'w') as out_file:\n",
    "    for f, r, dG in final_pairs:\n",
    "        # output as: f_idx, f_primer, set, r_idx, r_primer\n",
    "        print(f'{f}\\t{s2_dict[\"F\"][f][\"RPP30\"]}\\tRPP30\\t{r}\\t{s2_dict[\"R\"][r][\"RPP30\"]}', file=out_file)\n",
    "        print(f'{f}\\t{s2_dict[\"F\"][f][\"S2\"]}\\tS2\\t{r}\\t{s2_dict[\"R\"][r][\"S2\"]}', file=out_file)\n",
    "        \n",
    "# separate out for ordering\n",
    "with open('./rpp30_f.tsv', 'w') as f_file:\n",
    "    with open('./rpp30_r.tsv', 'w') as r_file:\n",
    "        for i, (f, r, dG) in enumerate(final_pairs):\n",
    "            print(f'rpp30_F_{i+1}_{f}\\t{s2_dict[\"F\"][f][\"RPP30\"]}', file=f_file)\n",
    "            print(f'rpp30_R_{i+1}_{r}\\t{s2_dict[\"R\"][r][\"RPP30\"]}', file=r_file)\n",
    "                  \n",
    "with open('./s2_f.tsv', 'w') as f_file:\n",
    "    with open('./s2_r.tsv', 'w') as r_file:\n",
    "        for i, (f, r, dG) in enumerate(final_pairs):\n",
    "            print(f's2_F_{i+1}_{f}\\t{s2_dict[\"F\"][f][\"S2\"]}', file=f_file)\n",
    "            print(f's2_R_{i+1}_{r}\\t{s2_dict[\"R\"][r][\"S2\"]}', file=r_file)"
   ]
  }
 ],
 "metadata": {
  "kernelspec": {
   "display_name": "Python 3",
   "language": "python",
   "name": "python3"
  },
  "language_info": {
   "codemirror_mode": {
    "name": "ipython",
    "version": 3
   },
   "file_extension": ".py",
   "mimetype": "text/x-python",
   "name": "python",
   "nbconvert_exporter": "python",
   "pygments_lexer": "ipython3",
   "version": "3.8.2"
  }
 },
 "nbformat": 4,
 "nbformat_minor": 4
}
